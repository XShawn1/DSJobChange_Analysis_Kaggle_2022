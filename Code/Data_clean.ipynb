{
  "cells": [
    {
      "cell_type": "code",
      "execution_count": null,
      "id": "f94216c1",
      "metadata": {
        "ExecuteTime": {
          "end_time": "2022-12-01T21:10:24.379685Z",
          "start_time": "2022-12-01T21:10:24.372495Z"
        },
        "id": "f94216c1"
      },
      "outputs": [],
      "source": [
        "import numpy as np\n",
        "import pandas as pd\n",
        "import matplotlib.pyplot as plt\n",
        "import seaborn as sns\n",
        "import warnings\n",
        "warnings.filterwarnings(\"ignore\")\n",
        "\n",
        "from google.colab import drive"
      ]
    },
    {
      "cell_type": "markdown",
      "source": [
        "# 1 Data Preprocessing"
      ],
      "metadata": {
        "id": "ntFcsL60Jbz3"
      },
      "id": "ntFcsL60Jbz3"
    },
    {
      "cell_type": "code",
      "execution_count": null,
      "id": "77a497a8",
      "metadata": {
        "ExecuteTime": {
          "end_time": "2022-12-01T21:11:12.651545Z",
          "start_time": "2022-12-01T21:11:12.584010Z"
        },
        "colab": {
          "base_uri": "https://localhost:8080/"
        },
        "id": "77a497a8",
        "outputId": "6217a402-be7f-41a4-daf4-a0b25906c96f"
      },
      "outputs": [
        {
          "output_type": "stream",
          "name": "stdout",
          "text": [
            "Drive already mounted at /content/gdrive; to attempt to forcibly remount, call drive.mount(\"/content/gdrive\", force_remount=True).\n",
            "<class 'pandas.core.frame.DataFrame'>\n",
            "RangeIndex: 19158 entries, 0 to 19157\n",
            "Data columns (total 14 columns):\n",
            " #   Column                  Non-Null Count  Dtype  \n",
            "---  ------                  --------------  -----  \n",
            " 0   enrollee_id             19158 non-null  int64  \n",
            " 1   city                    19158 non-null  object \n",
            " 2   city_development_index  19158 non-null  float64\n",
            " 3   gender                  14650 non-null  object \n",
            " 4   relevent_experience     19158 non-null  object \n",
            " 5   enrolled_university     18772 non-null  object \n",
            " 6   education_level         18698 non-null  object \n",
            " 7   major_discipline        16345 non-null  object \n",
            " 8   experience              19093 non-null  object \n",
            " 9   company_size            13220 non-null  object \n",
            " 10  company_type            13018 non-null  object \n",
            " 11  last_new_job            18735 non-null  object \n",
            " 12  training_hours          19158 non-null  int64  \n",
            " 13  target                  19158 non-null  float64\n",
            "dtypes: float64(2), int64(2), object(10)\n",
            "memory usage: 2.0+ MB\n"
          ]
        }
      ],
      "source": [
        "#### Load Data\n",
        "drive.mount(\"/content/gdrive\")\n",
        "df = pd.read_csv(\"/content/gdrive/My Drive/T1_DV/DS_raw.csv\")\n",
        "df.info()"
      ]
    },
    {
      "cell_type": "code",
      "execution_count": null,
      "id": "3c2314c1",
      "metadata": {
        "ExecuteTime": {
          "end_time": "2022-12-01T21:11:13.012610Z",
          "start_time": "2022-12-01T21:11:12.979609Z"
        },
        "colab": {
          "base_uri": "https://localhost:8080/"
        },
        "id": "3c2314c1",
        "outputId": "b37c92ee-b324-4aaa-d76e-7e36614e43d1"
      },
      "outputs": [
        {
          "output_type": "execute_result",
          "data": {
            "text/plain": [
              "enrollee_id               False\n",
              "city                      False\n",
              "city_development_index    False\n",
              "gender                     True\n",
              "relevent_experience       False\n",
              "enrolled_university        True\n",
              "education_level            True\n",
              "major_discipline           True\n",
              "experience                 True\n",
              "company_size               True\n",
              "company_type               True\n",
              "last_new_job               True\n",
              "training_hours            False\n",
              "target                    False\n",
              "dtype: bool"
            ]
          },
          "metadata": {},
          "execution_count": 4
        }
      ],
      "source": [
        "#### Missing values were recognised, so the column names were identified below\n",
        "df.isna().any()"
      ]
    },
    {
      "cell_type": "code",
      "execution_count": null,
      "id": "2d48840a",
      "metadata": {
        "ExecuteTime": {
          "end_time": "2022-12-01T21:11:13.874208Z",
          "start_time": "2022-12-01T21:11:13.820957Z"
        },
        "colab": {
          "base_uri": "https://localhost:8080/"
        },
        "id": "2d48840a",
        "outputId": "8a78d29d-5c57-4a61-b62b-f6cf7c7e130d"
      },
      "outputs": [
        {
          "output_type": "stream",
          "name": "stdout",
          "text": [
            "(19158, 14)\n",
            "(19158, 13)\n",
            "(12113, 13)\n"
          ]
        }
      ],
      "source": [
        "#### Clean data in accordance with the data lexicon\n",
        "print(df.shape)\n",
        "\n",
        "# Drop features that is not necessary to the research\n",
        "df_clean = df.drop(columns=\"enrolled_university\")\n",
        "# Fill N/A\n",
        "df_clean[\"gender\"] = df_clean[\"gender\"].fillna(\"Unknown\")\n",
        "df_clean.loc[df_clean[\"education_level\"]==\"Primary School\",\"major_discipline\"] = df_clean.loc[df_clean[\"education_level\"]==\"Primary School\",\"major_discipline\"].fillna(\"No Major\")\n",
        "df_clean.loc[df_clean[\"education_level\"]==\"High School\",\"major_discipline\"] = df_clean.loc[df_clean[\"education_level\"]==\"High School\",\"major_discipline\"].fillna(\"No Major\")\n",
        "print(df_clean.shape)\n",
        "\n",
        "# Drop the rest N/A rows\n",
        "df_clean = df_clean.dropna(axis=0, how=\"any\")\n",
        "print(df_clean.shape)"
      ]
    },
    {
      "cell_type": "code",
      "execution_count": null,
      "id": "c89b4d51",
      "metadata": {
        "ExecuteTime": {
          "end_time": "2022-12-01T21:11:21.458169Z",
          "start_time": "2022-12-01T21:11:21.443087Z"
        },
        "colab": {
          "base_uri": "https://localhost:8080/"
        },
        "id": "c89b4d51",
        "outputId": "82c51799-2f32-4528-b0a5-200c48c7b30a"
      },
      "outputs": [
        {
          "output_type": "stream",
          "name": "stdout",
          "text": [
            "['50-99' '<10' '10000+' '5000-9999' '1000-4999' '10/49' '100-500'\n",
            " '500-999']\n",
            "['15' '>20' '5' '13' '7' '17' '16' '1' '2' '11' '<1' '14' '18' '19' '12'\n",
            " '10' '4' '6' '9' '3' '8' '20']\n",
            "['>4' '4' '1' '3' 'never' '2']\n",
            "['Graduate' 'Masters' 'High School' 'Phd' 'Primary School']\n",
            "['STEM' 'No Major' 'Humanities' 'Business Degree' 'Other' 'Arts']\n"
          ]
        }
      ],
      "source": [
        "#### Check categorical data unique values\n",
        "print(df_clean[\"company_size\"].unique())\n",
        "print(df_clean[\"experience\"].unique())\n",
        "print(df_clean[\"last_new_job\"].unique())\n",
        "print(df_clean[\"education_level\"].unique())\n",
        "print(df_clean[\"major_discipline\"].unique())"
      ]
    },
    {
      "cell_type": "code",
      "source": [
        "#### There are too many values in 'experience', thus the distribution was displayed to check data\n",
        "sns.histplot(df[\"experience\"])\n",
        "plt.show()"
      ],
      "metadata": {
        "colab": {
          "base_uri": "https://localhost:8080/",
          "height": 449
        },
        "id": "gEHYa1NKTMNU",
        "outputId": "c468fc85-f446-4abe-b1dc-29171faa50af"
      },
      "id": "gEHYa1NKTMNU",
      "execution_count": null,
      "outputs": [
        {
          "output_type": "display_data",
          "data": {
            "text/plain": [
              "<Figure size 640x480 with 1 Axes>"
            ],
            "image/png": "[encoded data removed]"
          },
          "metadata": {}
        }
      ]
    },
    {
      "cell_type": "code",
      "execution_count": null,
      "id": "40122974",
      "metadata": {
        "ExecuteTime": {
          "end_time": "2022-12-01T21:11:24.441975Z",
          "start_time": "2022-12-01T21:11:24.390303Z"
        },
        "id": "40122974"
      },
      "outputs": [],
      "source": [
        "#### Manipulate and transform data to improve clarity and validity\n",
        "df_clean.loc[df_clean[\"company_size\"]==\"<10\",\"company_size\"] = \"0\"\n",
        "df_clean.loc[df_clean[\"company_size\"]==\"10/49\",\"company_size\"] = \"1\"\n",
        "df_clean.loc[df_clean[\"company_size\"]==\"50-99\",\"company_size\"] = \"2\"\n",
        "df_clean.loc[df_clean[\"company_size\"]==\"100-500\",\"company_size\"] = \"3\"\n",
        "df_clean.loc[df_clean[\"company_size\"]==\"500-999\",\"company_size\"] = \"4\"\n",
        "df_clean.loc[df_clean[\"company_size\"]==\"1000-4999\",\"company_size\"] = \"5\"\n",
        "df_clean.loc[df_clean[\"company_size\"]==\"5000-9999\",\"company_size\"] = \"6\"\n",
        "df_clean.loc[df_clean[\"company_size\"]==\"10000+\",\"company_size\"] = \"7\"\n",
        "\n",
        "# According to the distribution, it can be recognised that experience over 10 years are minor groups.\n",
        "# Considering that working experience over 10 years are considered to be high experienced, while job change more likely to happen in the early career,\n",
        "# Values from 11-15 are grouped and values from 15-20 are grouped\n",
        "df_clean.loc[df_clean[\"experience\"]==\"<1\",\"experience\"] = \"0\"\n",
        "# df.loc[df[\"experience\"]==\"11\",\"experience\"] = \"11\"\n",
        "# df.loc[df[\"experience\"]==\"12\",\"experience\"] = \"11\"\n",
        "# df.loc[df[\"experience\"]==\"13\",\"experience\"] = \"11\"\n",
        "# df.loc[df[\"experience\"]==\"14\",\"experience\"] = \"11\"\n",
        "# df.loc[df[\"experience\"]==\"15\",\"experience\"] = \"11\"\n",
        "# df.loc[df[\"experience\"]==\"16\",\"experience\"] = \"12\"\n",
        "# df.loc[df[\"experience\"]==\"17\",\"experience\"] = \"12\"\n",
        "# df.loc[df[\"experience\"]==\"18\",\"experience\"] = \"12\"\n",
        "# df.loc[df[\"experience\"]==\"19\",\"experience\"] = \"12\"\n",
        "# df.loc[df[\"experience\"]==\"20\",\"experience\"] = \"12\"\n",
        "df_clean.loc[df_clean[\"experience\"]==\">20\",\"experience\"] = \"21\"\n",
        "df_clean[\"experience\"] = df_clean[\"experience\"].astype(int)\n",
        "df_clean.loc[(df_clean[\"experience\"]<=15) & (df_clean[\"experience\"]>=11), \"experience\"] = 11\n",
        "df_clean.loc[(df_clean[\"experience\"]<=20) & (df_clean[\"experience\"]>=16), \"experience\"] = 12\n",
        "df_clean.loc[df_clean[\"experience\"]==21,\"experience\"] = 13\n",
        "df_clean[\"experience\"] = df_clean[\"experience\"].astype(str)\n",
        "\n",
        "df_clean.loc[df_clean[\"major_discipline\"]==\"No Major\",\"major_discipline\"] = \"No\"\n",
        "\n",
        "# There are only few values > 4, thus tag all values > 4 as 5\n",
        "df_clean.loc[df_clean[\"last_new_job\"]==\"never\",\"last_new_job\"] = \"0\"\n",
        "df_clean.loc[df_clean[\"last_new_job\"]==\">4\",\"last_new_job\"] = \"5\"\n",
        "\n",
        "# The education level can be compared, thus use the integer str value to represent\n",
        "df_clean.loc[df_clean[\"education_level\"]==\"Primary School\",\"education_level\"] = \"0\"\n",
        "df_clean.loc[df_clean[\"education_level\"]==\"High School\",\"education_level\"] = \"1\"\n",
        "df_clean.loc[df_clean[\"education_level\"]==\"Graduate\",\"education_level\"] = \"2\"\n",
        "df_clean.loc[df_clean[\"education_level\"]==\"Masters\",\"education_level\"] = \"3\"\n",
        "df_clean.loc[df_clean[\"education_level\"]==\"Phd\",\"education_level\"] = \"4\""
      ]
    },
    {
      "cell_type": "code",
      "source": [
        "#### There are too many values in 'experience', thus the distribution was displayed to check data\n",
        "sns.histplot(df_clean[\"experience\"].astype(int))\n",
        "plt.show()"
      ],
      "metadata": {
        "colab": {
          "base_uri": "https://localhost:8080/",
          "height": 449
        },
        "id": "ov7CRaggW2_K",
        "outputId": "ea807745-e350-4cea-c9fa-758cca81044c"
      },
      "id": "ov7CRaggW2_K",
      "execution_count": null,
      "outputs": [
        {
          "output_type": "display_data",
          "data": {
            "text/plain": [
              "<Figure size 640x480 with 1 Axes>"
            ],
            "image/png": "[encoded data removed]"
          },
          "metadata": {}
        }
      ]
    },
    {
      "cell_type": "markdown",
      "source": [
        "# Check Data"
      ],
      "metadata": {
        "id": "qU5O8As8cGGI"
      },
      "id": "qU5O8As8cGGI"
    },
    {
      "cell_type": "code",
      "execution_count": null,
      "id": "f2870bd5",
      "metadata": {
        "ExecuteTime": {
          "end_time": "2022-11-29T22:16:38.880551Z",
          "start_time": "2022-11-29T22:16:38.847169Z"
        },
        "colab": {
          "base_uri": "https://localhost:8080/"
        },
        "id": "f2870bd5",
        "outputId": "aac13f41-391b-40ba-957f-08e37f6f55b5"
      },
      "outputs": [
        {
          "output_type": "stream",
          "name": "stdout",
          "text": [
            "<class 'pandas.core.frame.DataFrame'>\n",
            "Int64Index: 12113 entries, 1 to 19156\n",
            "Data columns (total 13 columns):\n",
            " #   Column                  Non-Null Count  Dtype  \n",
            "---  ------                  --------------  -----  \n",
            " 0   enrollee_id             12113 non-null  int64  \n",
            " 1   city                    12113 non-null  object \n",
            " 2   city_development_index  12113 non-null  float64\n",
            " 3   gender                  12113 non-null  object \n",
            " 4   relevent_experience     12113 non-null  object \n",
            " 5   education_level         12113 non-null  object \n",
            " 6   major_discipline        12113 non-null  object \n",
            " 7   experience              12113 non-null  object \n",
            " 8   company_size            12113 non-null  object \n",
            " 9   company_type            12113 non-null  object \n",
            " 10  last_new_job            12113 non-null  object \n",
            " 11  training_hours          12113 non-null  int64  \n",
            " 12  target                  12113 non-null  float64\n",
            "dtypes: float64(2), int64(2), object(9)\n",
            "memory usage: 1.3+ MB\n"
          ]
        }
      ],
      "source": [
        "df_clean.info()"
      ]
    },
    {
      "cell_type": "markdown",
      "source": [
        "# 3 Output Data"
      ],
      "metadata": {
        "id": "TMIANTUfcJHW"
      },
      "id": "TMIANTUfcJHW"
    },
    {
      "cell_type": "code",
      "execution_count": 67,
      "id": "1ef2850f",
      "metadata": {
        "ExecuteTime": {
          "end_time": "2022-12-01T21:11:59.978971Z",
          "start_time": "2022-12-01T21:11:59.883847Z"
        },
        "id": "1ef2850f"
      },
      "outputs": [],
      "source": [
        "df_clean.to_csv(\"/content/gdrive/My Drive/T1_DV/DS_cleaned_final.csv\", header=True, index=False)"
      ]
    }
  ],
  "metadata": {
    "kernelspec": {
      "display_name": "Python 3 (ipykernel)",
      "language": "python",
      "name": "python3"
    },
    "language_info": {
      "codemirror_mode": {
        "name": "ipython",
        "version": 3
      },
      "file_extension": ".py",
      "mimetype": "text/x-python",
      "name": "python",
      "nbconvert_exporter": "python",
      "pygments_lexer": "ipython3",
      "version": "3.9.12"
    },
    "toc": {
      "base_numbering": 1,
      "nav_menu": {},
      "number_sections": true,
      "sideBar": true,
      "skip_h1_title": false,
      "title_cell": "Table of Contents",
      "title_sidebar": "Contents",
      "toc_cell": false,
      "toc_position": {},
      "toc_section_display": true,
      "toc_window_display": false
    },
    "varInspector": {
      "cols": {
        "lenName": 16,
        "lenType": 16,
        "lenVar": 40
      },
      "kernels_config": {
        "python": {
          "delete_cmd_postfix": "",
          "delete_cmd_prefix": "del ",
          "library": "var_list.py",
          "varRefreshCmd": "print(var_dic_list())"
        },
        "r": {
          "delete_cmd_postfix": ") ",
          "delete_cmd_prefix": "rm(",
          "library": "var_list.r",
          "varRefreshCmd": "cat(var_dic_list()) "
        }
      },
      "types_to_exclude": [
        "module",
        "function",
        "builtin_function_or_method",
        "instance",
        "_Feature"
      ],
      "window_display": true
    },
    "colab": {
      "provenance": []
    }
  },
  "nbformat": 4,
  "nbformat_minor": 5
}